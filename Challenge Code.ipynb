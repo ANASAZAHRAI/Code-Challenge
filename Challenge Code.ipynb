{
 "cells": [
  {
   "cell_type": "code",
   "execution_count": 37,
   "id": "0c9e57f2",
   "metadata": {},
   "outputs": [
    {
     "name": "stdout",
     "output_type": "stream",
     "text": [
      "Requirement already satisfied: pymongo in c:\\users\\anas\\anaconda3\\lib\\site-packages (4.3.3)\n",
      "Requirement already satisfied: dnspython<3.0.0,>=1.16.0 in c:\\users\\anas\\anaconda3\\lib\\site-packages (from pymongo) (2.3.0)\n"
     ]
    }
   ],
   "source": [
    "!pip install pymongo\n"
   ]
  },
  {
   "cell_type": "code",
   "execution_count": 38,
   "id": "c2ca55bd",
   "metadata": {},
   "outputs": [],
   "source": [
    "import json\n",
    "from pymongo import MongoClient\n",
    "\n",
    "# Connexion à la base de données MongoDB\n",
    "client = MongoClient('localhost', 27017)\n",
    "database = client[\"rhobs\"]\n",
    "collection = database[\"people\"]\n",
    "\n",
    "# Chargement des données JSON et insertion dans la collection\n",
    "with open(\"data.json.codechallenge.janv22.RHOBS.json\", \"r\") as fp:\n",
    "    data = json.load(fp)\n",
    "    for person in data:\n",
    "        collection.insert_one(person)"
   ]
  },
  {
   "cell_type": "code",
   "execution_count": 39,
   "id": "f2877831",
   "metadata": {},
   "outputs": [
    {
     "name": "stdout",
     "output_type": "stream",
     "text": [
      "Nombre de femmes : 350588\n",
      "Nombre d'hommes : 349412\n"
     ]
    }
   ],
   "source": [
    "nb_femmes = collection.count_documents({'sex': 'F'})\n",
    "nb_hommes = collection.count_documents({'sex': 'M'})\n",
    "\n",
    "print(f\"Nombre de femmes : {nb_femmes}\")\n",
    "print(f\"Nombre d'hommes : {nb_hommes}\")"
   ]
  },
  {
   "cell_type": "code",
   "execution_count": 45,
   "id": "1de9081b",
   "metadata": {},
   "outputs": [],
   "source": [
    "def entreprise_des_personnes_plus_de_Nemployer(N):\n",
    "    pipeline = [\n",
    "        {\"$group\": {\"_id\": \"$company\", \"count\": {\"$sum\": 1}}},\n",
    "        {\"$match\": {\"count\": {\"$gt\": N}}},\n",
    "        {\"$sort\": {\"count\": -1}}\n",
    "    ]\n",
    "    result = list(collection.aggregate(pipeline))\n",
    "    companies = [r['_id'] for r in result]\n",
    "    return companies\n"
   ]
  },
  {
   "cell_type": "code",
   "execution_count": 104,
   "id": "7d2d009c",
   "metadata": {},
   "outputs": [
    {
     "name": "stdout",
     "output_type": "stream",
     "text": [
      "['Gay', 'Evrard', 'Bonnet', 'Normand', 'Leclercq', 'Pottier', 'Bernard', 'Monnier', 'Rousset', 'Colin', 'Durand', 'Roussel', 'Martins', 'Lecomte', 'Martinez', 'Pages', 'Coste', 'Rodriguez', 'Camus', 'Guilbert', 'Dijoux', 'Albert', 'Colas', 'Guichard', 'Gros', 'Bailly', 'Duhamel', 'Launay', 'Blanc', 'Laurent', 'Faure', 'Leduc', 'Charrier', 'Ollivier', 'Laine', 'Hubert', 'Gilbert', 'Valentin', 'Raymond', 'Hervé', 'Jacques', 'Lombard', 'Wagner', 'Marques', 'Perez', 'Garnier', 'Renaud', 'Hamon', 'Clerc', 'Imbert', 'Rolland', 'Bourgeois', 'Legendre', 'Bourdon', 'Gaillard', 'Vallée']\n"
     ]
    }
   ],
   "source": [
    "companies = entreprise_des_personnes_plus_de_Nemployer(1000)\n",
    "print(companies)\n"
   ]
  },
  {
   "cell_type": "code",
   "execution_count": 113,
   "id": "d48ef7b6",
   "metadata": {},
   "outputs": [
    {
     "name": "stdout",
     "output_type": "stream",
     "text": [
      "{'2.0-0.0': {'M': 0, 'F': 14}, '4.0-0.0': {'M': 0, 'F': 28}, '5.0-5.0': {'M': 0, 'F': 14}, '6.0-5.0': {'M': 0, 'F': 14}, '7.0-5.0': {'M': 0, 'F': 28}, '9.0-5.0': {'M': 0, 'F': 14}, '10.0-10.0': {'M': 14, 'F': 0}, '13.0-10.0': {'M': 0, 'F': 14}, '17.0-15.0': {'M': 0, 'F': 14}, '18.0-15.0': {'M': 0, 'F': 14}, '20.0-20.0': {'M': 14, 'F': 0}, '22.0-20.0': {'M': 0, 'F': 28}, '23.0-20.0': {'M': 0, 'F': 14}, '25.0-25.0': {'M': 0, 'F': 14}, '27.0-25.0': {'M': 0, 'F': 14}, '29.0-25.0': {'M': 0, 'F': 14}, '30.0-30.0': {'M': 14, 'F': 0}, '31.0-30.0': {'M': 0, 'F': 14}, '32.0-30.0': {'M': 0, 'F': 14}, '34.0-30.0': {'M': 0, 'F': 14}, '36.0-35.0': {'M': 0, 'F': 28}, '37.0-35.0': {'M': 0, 'F': 28}, '41.0-40.0': {'M': 0, 'F': 14}, '42.0-40.0': {'M': 0, 'F': 14}, '50.0-50.0': {'M': 14, 'F': 0}, '52.0-50.0': {'M': 0, 'F': 14}, '56.0-55.0': {'M': 0, 'F': 28}, '59.0-55.0': {'M': 0, 'F': 14}, '61.0-60.0': {'M': 0, 'F': 28}, '63.0-60.0': {'M': 0, 'F': 14}, '67.0-65.0': {'M': 0, 'F': 14}, '71.0-70.0': {'M': 0, 'F': 14}, '73.0-70.0': {'M': 0, 'F': 14}, '74.0-70.0': {'M': 0, 'F': 14}, '75.0-75.0': {'M': 0, 'F': 14}, '78.0-75.0': {'M': 0, 'F': 14}, '79.0-75.0': {'M': 0, 'F': 14}, '81.0-80.0': {'M': 0, 'F': 14}, '85.0-85.0': {'M': 0, 'F': 14}, '86.0-85.0': {'M': 0, 'F': 14}, '89.0-85.0': {'M': 0, 'F': 14}, '90.0-90.0': {'M': 28, 'F': 0}, '91.0-90.0': {'M': 0, 'F': 14}, '94.0-90.0': {'M': 0, 'F': 14}, '95.0-95.0': {'M': 0, 'F': 14}, '100.0-100.0': {'M': 14, 'F': 0}, '105.0-105.0': {'M': 0, 'F': 14}, '107.0-105.0': {'M': 0, 'F': 14}, '108.0-105.0': {'M': 0, 'F': 14}, '109.0-105.0': {'M': 0, 'F': 14}, '111.0-110.0': {'M': 0, 'F': 14}, '113.0-110.0': {'M': 0, 'F': 14}, '115.0-115.0': {'M': 0, 'F': 14}, '116.0-115.0': {'M': 0, 'F': 14}, '117.0-115.0': {'M': 0, 'F': 14}}\n"
     ]
    }
   ],
   "source": [
    "from datetime import datetime\n",
    "\n",
    "def pyramid_de_age_pour_métier(job):\n",
    "    pipeline = [\n",
    "        {\"$set\": {\"birthdate\": {\"$toDate\": \"$birthdate\"}}},\n",
    "        {\"$match\": {\"job\": job}},\n",
    "        {\"$group\": {\n",
    "            \"_id\": {\n",
    "                \"lower\": {\"$trunc\": {\"$divide\": [{\"$subtract\": [datetime.now(), \"$birthdate\"]}, 31536000000]}},\n",
    "                \"upper\": {\"$subtract\": [\n",
    "                    {\"$trunc\": {\"$divide\": [{\"$subtract\": [datetime.now(), \"$birthdate\"]}, 31536000000]}},\n",
    "                    {\"$mod\": [{\"$trunc\": {\"$divide\": [{\"$subtract\": [datetime.now(), \"$birthdate\"]}, 31536000000]}}, 5]}\n",
    "                ]}\n",
    "            },\n",
    "            \"count\": {\"$sum\": 1}\n",
    "        }},\n",
    "        {\"$sort\": {\"_id.lower\": 1}}\n",
    "    ]\n",
    "    \n",
    "    result = list(collection.aggregate(pipeline))\n",
    "    \n",
    "    age_pyramid = {}\n",
    "    for item in result:\n",
    "        age_group = f\"{item['_id']['lower']}-{item['_id']['upper']}\"\n",
    "        age_pyramid[age_group] = age_pyramid.get(age_group, {\"M\": 0, \"F\": 0})\n",
    "        age_pyramid[age_group][\"M\" if item[\"_id\"][\"lower\"] % 10 == 0 else \"F\"] += item[\"count\"]\n",
    "    \n",
    "    return age_pyramid\n",
    "print(pyramid_de_age_pour_métier(\"éducateur sportif sportive des activités aquatiques et de la natation\"))"
   ]
  },
  {
   "cell_type": "code",
   "execution_count": null,
   "id": "de33a8d2",
   "metadata": {},
   "outputs": [],
   "source": []
  }
 ],
 "metadata": {
  "kernelspec": {
   "display_name": "Python 3 (ipykernel)",
   "language": "python",
   "name": "python3"
  },
  "language_info": {
   "codemirror_mode": {
    "name": "ipython",
    "version": 3
   },
   "file_extension": ".py",
   "mimetype": "text/x-python",
   "name": "python",
   "nbconvert_exporter": "python",
   "pygments_lexer": "ipython3",
   "version": "3.9.13"
  }
 },
 "nbformat": 4,
 "nbformat_minor": 5
}
